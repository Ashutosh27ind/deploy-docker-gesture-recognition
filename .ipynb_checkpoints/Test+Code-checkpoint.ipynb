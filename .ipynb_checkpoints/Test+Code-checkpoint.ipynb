{
 "cells": [
  {
   "cell_type": "markdown",
   "metadata": {},
   "source": [
    "The following code will help you in calculating the accuracy on the test dataset. Please note that the structure in which the test data is stored needs to the same as that of the train or the validation dataset. Choose one of the models saved during training to calculate the test accuracy."
   ]
  },
  {
   "cell_type": "code",
   "execution_count": null,
   "metadata": {},
   "outputs": [],
   "source": [
    "from keras.models import load_model, Model\n",
    "#######\n",
    "    \n",
    "model_name = '/storage/Final_data/model_init_conv_lstm_2018-10-0316_27_25.831386/model-00041-0.05310-0.99698-0.85627-0.71000.h5'\n",
    "    \n",
    "#######\n",
    "    \n",
    "test_doc = open('/notebooks/storage/Final_data/Collated_training/test.csv').readlines()\n",
    "test_path = '/notebooks/storage/Final_data/Collated_training/test'\n",
    "num_test_sequences = len(test_doc)\n",
    "print ('# testing sequences =', num_test_sequences)\n",
    "test_generator = generator(test_path, test_doc, batch_size)\n",
    "model = load_model(model_name)\n",
    "print(\"Model loaded.\")\n",
    "model_func = Model(inputs=[model.input], outputs=[model.output])\n",
    "    \n",
    "acc = 0\n",
    "    \n",
    "num_batches = int(num_test_sequences/batch_size)\n",
    "    \n",
    "for i in range(num_batches):\n",
    "    x,true_labels = test_generator.__next__()\n",
    "    print (\"shape of x:\", x.shape, \"and shape of true_labels:\", true_labels.shape)\n",
    "    pred_idx = np.argmax(model_func.predict_on_batch(x), axis=1)\n",
    "    for j,k in enumerate(pred_idx):\n",
    "        if true_labels[j,k] == 1:\n",
    "            acc += 1\n",
    "                \n",
    "if (num_test_sequences%batch_size) != 0:\n",
    "    x,true_labels = test_generator.__next__()\n",
    "    print (\"shape of x:\", x.shape, \"and shape of true_labels:\", true_labels.shape)\n",
    "    pred_idx = np.argmax(model_func.predict_on_batch(x), axis=1)\n",
    "    for j,k in enumerate(pred_idx):\n",
    "        if true_labels[j,k] == 1:\n",
    "            acc += 1\n",
    "\n",
    "print('Accuracy is =', acc/num_test_sequences) "
   ]
  }
 ],
 "metadata": {
  "kernelspec": {
   "display_name": "Python 3",
   "language": "python",
   "name": "python3"
  },
  "language_info": {
   "codemirror_mode": {
    "name": "ipython",
    "version": 3
   },
   "file_extension": ".py",
   "mimetype": "text/x-python",
   "name": "python",
   "nbconvert_exporter": "python",
   "pygments_lexer": "ipython3",
   "version": "3.6.5"
  }
 },
 "nbformat": 4,
 "nbformat_minor": 2
}
